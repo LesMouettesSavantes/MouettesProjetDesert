{
 "cells": [
  {
   "cell_type": "markdown",
   "id": "68daa6ae-d659-4e6b-ba62-90d1c35a2878",
   "metadata": {},
   "source": [
    "# TP d'introduction à Python. \n",
    "\n",
    "## 1. Les outils \n",
    "\n",
    "En règle générale, pour cette semaine vous aurez besoin de \n",
    "- Google\n",
    "- Deepl (si vous n'êtes pas très à l'aise en anglais)\n",
    "- ChatGPT pour qu'il vous aide à écrire vos codes et réponde à toutes vos questions (c'est le moment de vous créer un compte si ce n'est pas déjà fait)\n",
    "\n",
    "Vous trouverez toutes les réponses grâce à Google, ChatGPT votre cerveau et votre groupe (et un peu les animatrices) \n",
    "\n",
    "**C'est l'heure de s'y mettre!** \n",
    "\n",
    "- 1.Sur votre ordinateur, créez / cherchez un dossier qui s'appelle \"MouettesDesert\"  \n",
    "- 2. Ouvrez VScode en cliquant sur l'icone  \n",
    "- 3. En cliquant sur File /open Folder \"MouesttesDesert\" \n",
    "- 4. Ouvrir le fichier \"TP-Intro_PythonMarcheAleatoires.ipynb\"\n",
    "\n",
    "\n",
    "L'objectif de ce TP est que vous appreniez (ou vous remémoriez) des outils dont on aura besoin pour simuler nos écosystèmes désertiques dès demain. Pour cela, nous avons besoin d'être capable de \n",
    "- Générer des phénomènes aléatoires avec Python\n",
    "- Ecrire un algorithme qui va nous permettre d'éxécuter plusieurs fois la même instruction\n",
    "- Savoir faire des dessins avec Python.  \n"
   ]
  },
  {
   "cell_type": "markdown",
   "id": "c2aec4fb",
   "metadata": {},
   "source": [
    "## 2. Générer de l'aléatoire avec Python \n",
    "\n",
    "Supposons que je sois en train de faire une randonnée et je souhaite laisser le hasard décider de la direction que je vais prendre. Ainsi, chaque matin je vais tirer au hasard une action parmi les suivantes: \n",
    "\n",
    "- Je vais vers le nord\n",
    "- Je vais vers l'est\n",
    "- Je vais vers le  sud \n",
    "- Je vais vers l'ouest\n",
    "- Je reste sur place\n",
    "\n",
    "et je marcherai 5km (sauf si je reste sur place)\n",
    "\n",
    "1. Dans la réalité comment feriez-vous pour réaliser cette expérience? \n",
    "2. Demandez à ChatGPT de vous écrire un code qui vous permet de choisir au hasard parmi ces 5 options. Etes vous convaincue que ChatGPT sera votre meilleur ami cette semaine? \n",
    "3. Dans VSCode, créez un nouveau Fichier Python (appelez le \"premierTP\" ou autre) \n",
    "4. Copiez-collez les instructions de ChatGPT et adaptez les à votre situation.\n",
    "5. Executez le code avec le petit triangle en haut à droite. Vers où allez vous marcher ce matin? Exécutez à nouveau? \n"
   ]
  },
  {
   "cell_type": "code",
   "execution_count": 63,
   "id": "a6f4a553-e8e1-41e2-af95-d07d683e50d4",
   "metadata": {},
   "outputs": [
    {
     "name": "stdout",
     "output_type": "stream",
     "text": [
      "L'option choisie au hasard est : Je reste sur place\n"
     ]
    }
   ],
   "source": [
    "import random\n",
    "\n",
    "# Définir les options parmi lesquelles choisir\n",
    "options = [\"Je vais vers le nord\", \"Je vais vers l'est\", \"Je vais vers le  sud\", \"Je vais vers l'ouest\", \"Je reste sur place\"]\n",
    "# Choisir une option au hasard\n",
    "choix = random.choice(options)\n",
    "\n",
    "# Afficher le choix\n",
    "print(\"L'option choisie au hasard est :\", choix)\n"
   ]
  },
  {
   "cell_type": "markdown",
   "id": "9cf93956",
   "metadata": {},
   "source": [
    "**Quelques commentaires importants**: \n",
    "\n",
    "- Pour \"simuler\" (c'est à dire faire un action aléatoire, donc dont on ne peut pas prévoir l'issue\"), Python a eu besoin d'avoir recours à des fonctions/outils qui sont contenues dans le module \"random\". D'où le import random\n",
    "- \"options\" est une \"list\" qui contient dans notre cas toutes les issues possibles de notre expérience\n",
    "- Je peux accéder à un élément de ma liste de la façon suivante: \n"
   ]
  },
  {
   "cell_type": "code",
   "execution_count": 64,
   "id": "46addd71",
   "metadata": {},
   "outputs": [
    {
     "name": "stdout",
     "output_type": "stream",
     "text": [
      "Je vais vers le nord\n",
      "Je vais vers le  sud\n",
      "Je reste sur place\n"
     ]
    }
   ],
   "source": [
    "print(options[0]) # premier élément de la liste\n",
    "print(options[2]) # 3ème élément de la liste\n",
    "print(options[-1])# dernier élément de la liste"
   ]
  },
  {
   "cell_type": "markdown",
   "id": "97eeee5f",
   "metadata": {},
   "source": [
    "Je peux aussi changer un élément de cette liste de la façon suivante: "
   ]
  },
  {
   "cell_type": "code",
   "execution_count": 65,
   "id": "87d2cddb",
   "metadata": {},
   "outputs": [
    {
     "name": "stdout",
     "output_type": "stream",
     "text": [
      "['Je vais vers le nord', \"Je vais vers l'est\", 'Je vais vers le  sud', \"Je vais vers l'ouest\", 'Je me repose']\n"
     ]
    }
   ],
   "source": [
    "options[-1] = \"Je me repose\"\n",
    "print(options)"
   ]
  },
  {
   "cell_type": "markdown",
   "id": "5ad623c2",
   "metadata": {},
   "source": [
    "**La suite des commentaires:** \n",
    "\n",
    "- Quand j'utilise les guillemets, c'est pour définir une chaîne de caractères (un mot, une phrase, un numéro...). Je ne pourrai pas faire des calculs dessus. \n",
    "- Avec l'instruction \"choix = random.choice(options)\" j'utilise la fonction \"choice\" du module \"random\"\n",
    "- Pour savoir ce que fait cette fonction je peux utilise google\n",
    "\n"
   ]
  },
  {
   "cell_type": "markdown",
   "id": "350e5ba9",
   "metadata": {},
   "source": [
    "**Exercice 1.** \n",
    "\n",
    "Supposons que je souhaite doubler mes chances d'aller vers le Nord. \n",
    "- Comment pourriez vous faire ça dans la réalité? \n",
    "- Comment allez vous transformer le code précédent pour y répondre?  \n",
    "- Quelle sera ma probabilité de me reposer? \n"
   ]
  },
  {
   "cell_type": "code",
   "execution_count": 66,
   "id": "79612a29",
   "metadata": {},
   "outputs": [],
   "source": [
    "#Ecrire votre code ici "
   ]
  },
  {
   "cell_type": "markdown",
   "id": "0fcffd6b",
   "metadata": {},
   "source": [
    "# 3. Répéter des instructions avec Python \n",
    "\n",
    "Ma randonnée dure 20 jours et je voudrais refaire l'expérience chaque jour. Nous souhaitons donc écrire un code qui nous permette de répéter plusieurs fois la même intruction. C'est ce qu'on appelle un *algorithme*.  \n",
    "\n",
    "Demandez à ChatGPT si il peut vous écrire ce code. "
   ]
  },
  {
   "cell_type": "code",
   "execution_count": 67,
   "id": "07edfd95",
   "metadata": {},
   "outputs": [
    {
     "name": "stdout",
     "output_type": "stream",
     "text": [
      "L'option choisie au hasard à l'itération 1 est : Je vais vers l'ouest\n",
      "L'option choisie au hasard à l'itération 2 est : Je vais vers l'est\n",
      "L'option choisie au hasard à l'itération 3 est : Je vais vers l'est\n",
      "L'option choisie au hasard à l'itération 4 est : Je me repose\n",
      "L'option choisie au hasard à l'itération 5 est : Je vais vers le  sud\n",
      "L'option choisie au hasard à l'itération 6 est : Je vais vers le nord\n",
      "L'option choisie au hasard à l'itération 7 est : Je vais vers l'ouest\n",
      "L'option choisie au hasard à l'itération 8 est : Je me repose\n",
      "L'option choisie au hasard à l'itération 9 est : Je vais vers le  sud\n",
      "L'option choisie au hasard à l'itération 10 est : Je vais vers l'est\n",
      "L'option choisie au hasard à l'itération 11 est : Je vais vers l'est\n",
      "L'option choisie au hasard à l'itération 12 est : Je vais vers le nord\n",
      "L'option choisie au hasard à l'itération 13 est : Je vais vers l'est\n",
      "L'option choisie au hasard à l'itération 14 est : Je vais vers le  sud\n",
      "L'option choisie au hasard à l'itération 15 est : Je vais vers l'est\n",
      "L'option choisie au hasard à l'itération 16 est : Je vais vers le nord\n",
      "L'option choisie au hasard à l'itération 17 est : Je me repose\n",
      "L'option choisie au hasard à l'itération 18 est : Je me repose\n",
      "L'option choisie au hasard à l'itération 19 est : Je vais vers le  sud\n",
      "L'option choisie au hasard à l'itération 20 est : Je me repose\n"
     ]
    }
   ],
   "source": [
    "\n",
    "# Répéter le choix 20 fois\n",
    "for i in range(20):\n",
    "    choix = random.choice(options)\n",
    "    print(f\"L'option choisie au hasard à l'itération {i + 1} est : {choix}\")\n"
   ]
  },
  {
   "cell_type": "markdown",
   "id": "83b4a843",
   "metadata": {},
   "source": [
    "**Commentaires**\n",
    "\n",
    "- Pour répéter une instruction de nombreuses fois, on ne recopie pas l'instruction, on utilise les \"boucles\"\n",
    "- for i in range(20) : pour l'itération allant de 0 à 19 (attention)\n",
    "- Il affiche la même phrase à chaque fois en mettant à jour l'itération et le choix. \n",
    "- *Question* : avez vous conservé quelque part la liste de vos choix? "
   ]
  },
  {
   "cell_type": "markdown",
   "id": "dfae7bea",
   "metadata": {},
   "source": [
    "**Exercice 2** \n",
    "\n",
    "Demandez à ChatGPT comment conserver en mémoire  la liste de vos choix.  "
   ]
  },
  {
   "cell_type": "code",
   "execution_count": 68,
   "id": "30ea4b8d",
   "metadata": {},
   "outputs": [
    {
     "name": "stdout",
     "output_type": "stream",
     "text": [
      "L'option choisie au hasard à l'itération 1 est : Je vais vers le nord\n",
      "L'option choisie au hasard à l'itération 2 est : Je vais vers le nord\n",
      "L'option choisie au hasard à l'itération 3 est : Je vais vers le  sud\n",
      "L'option choisie au hasard à l'itération 4 est : Je vais vers l'est\n",
      "L'option choisie au hasard à l'itération 5 est : Je vais vers le  sud\n",
      "L'option choisie au hasard à l'itération 6 est : Je me repose\n",
      "L'option choisie au hasard à l'itération 7 est : Je vais vers le nord\n",
      "L'option choisie au hasard à l'itération 8 est : Je me repose\n",
      "L'option choisie au hasard à l'itération 9 est : Je vais vers l'est\n",
      "L'option choisie au hasard à l'itération 10 est : Je vais vers l'ouest\n",
      "L'option choisie au hasard à l'itération 11 est : Je vais vers l'est\n",
      "L'option choisie au hasard à l'itération 12 est : Je vais vers l'est\n",
      "L'option choisie au hasard à l'itération 13 est : Je me repose\n",
      "L'option choisie au hasard à l'itération 14 est : Je vais vers le  sud\n",
      "L'option choisie au hasard à l'itération 15 est : Je vais vers le nord\n",
      "L'option choisie au hasard à l'itération 16 est : Je vais vers le  sud\n",
      "L'option choisie au hasard à l'itération 17 est : Je vais vers l'est\n",
      "L'option choisie au hasard à l'itération 18 est : Je vais vers le nord\n",
      "L'option choisie au hasard à l'itération 19 est : Je vais vers le nord\n",
      "L'option choisie au hasard à l'itération 20 est : Je vais vers l'ouest\n",
      "\n",
      "Liste complète des options choisies :\n",
      "['Je vais vers le nord', 'Je vais vers le nord', 'Je vais vers le  sud', \"Je vais vers l'est\", 'Je vais vers le  sud', 'Je me repose', 'Je vais vers le nord', 'Je me repose', \"Je vais vers l'est\", \"Je vais vers l'ouest\", \"Je vais vers l'est\", \"Je vais vers l'est\", 'Je me repose', 'Je vais vers le  sud', 'Je vais vers le nord', 'Je vais vers le  sud', \"Je vais vers l'est\", 'Je vais vers le nord', 'Je vais vers le nord', \"Je vais vers l'ouest\"]\n"
     ]
    }
   ],
   "source": [
    "# Liste pour stocker les options choisies\n",
    "choix_liste = []\n",
    "\n",
    "# Répéter le choix 20 fois\n",
    "for i in range(20):\n",
    "    choix = random.choice(options)\n",
    "    choix_liste.append(choix)\n",
    "    print(f\"L'option choisie au hasard à l'itération {i + 1} est : {choix}\")\n",
    "\n",
    "# Afficher la liste complète des choix\n",
    "print(\"\\nListe complète des options choisies :\")\n",
    "print(choix_liste)"
   ]
  }
 ],
 "metadata": {
  "kernelspec": {
   "display_name": "Python 3 (ipykernel)",
   "language": "python",
   "name": "python3"
  },
  "language_info": {
   "codemirror_mode": {
    "name": "ipython",
    "version": 3
   },
   "file_extension": ".py",
   "mimetype": "text/x-python",
   "name": "python",
   "nbconvert_exporter": "python",
   "pygments_lexer": "ipython3",
   "version": "3.10.12"
  }
 },
 "nbformat": 4,
 "nbformat_minor": 5
}
