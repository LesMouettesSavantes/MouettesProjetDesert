{
 "cells": [
  {
   "cell_type": "markdown",
   "id": "68daa6ae-d659-4e6b-ba62-90d1c35a2878",
   "metadata": {},
   "source": [
    "# TP d'introduction à Python. \n",
    "\n",
    "## Les outils \n",
    "\n",
    "En règle générale, pour cette semaine vous aurez besoin de \n",
    "- Google\n",
    "- Deepl (si vous n'êtes pas très à l'aise en anglais)\n",
    "- ChatGPT pour qu'il vous aide à écrire vos codes et réponde à toutes vos questions (c'est le moment de vous créer un compte si ce n'est pas déjà fait)\n",
    "\n",
    "Vous trouverez toutes les réponses grâce à Google, ChatGPT votre cerveau et votre groupe (et un peu les animatrices) \n",
    "\n",
    "**C'est l'heure de s'y mettre!** \n",
    "\n",
    "- 1.Sur votre ordinateur, créez / cherchez un dossier qui s'appelle \"MouettesDesert\"  \n",
    "  2. Ouvrez VScode en cliquant sur l'icone  \n",
    "- 2. *Tâche 2**\n",
    "\n"
   ]
  },
  {
   "cell_type": "code",
   "execution_count": 1,
   "id": "a6f4a553-e8e1-41e2-af95-d07d683e50d4",
   "metadata": {},
   "outputs": [
    {
     "name": "stdout",
     "output_type": "stream",
     "text": [
      "je pars a gauche\n"
     ]
    }
   ],
   "source": [
    "import random\n",
    "import numpy as np\n",
    "import matplotlib.pyplot as plt\n",
    "\n",
    "list_decisions = [\"Je pars a droite\", \"je pars a gauche\", 'je vais tout droit', \"je recule\", \"je reste sur place\"]\n",
    "N = len(list_decisions)\n",
    "u = random.randint(0, N-1)\n",
    "mydecision  = list_decisions[u]\n",
    "print(mydecision)"
   ]
  }
 ],
 "metadata": {
  "kernelspec": {
   "display_name": "Python 3 (ipykernel)",
   "language": "python",
   "name": "python3"
  },
  "language_info": {
   "codemirror_mode": {
    "name": "ipython",
    "version": 3
   },
   "file_extension": ".py",
   "mimetype": "text/x-python",
   "name": "python",
   "nbconvert_exporter": "python",
   "pygments_lexer": "ipython3",
   "version": "3.10.12"
  }
 },
 "nbformat": 4,
 "nbformat_minor": 5
}
